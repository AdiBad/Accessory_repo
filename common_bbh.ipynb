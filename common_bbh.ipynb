{
 "cells": [
  {
   "cell_type": "code",
   "execution_count": 1,
   "metadata": {},
   "outputs": [
    {
     "name": "stdout",
     "output_type": "stream",
     "text": [
      "C:\\Users\\Aditya\\Desktop\\Comparative&RegulatoryGenomics\\Vera\\bigAss\n"
     ]
    }
   ],
   "source": [
    "cd C:\\Users\\Aditya\\Desktop\\Comparative&RegulatoryGenomics\\Vera\\bigAss"
   ]
  },
  {
   "cell_type": "code",
   "execution_count": 5,
   "metadata": {},
   "outputs": [
    {
     "name": "stdout",
     "output_type": "stream",
     "text": [
      " Volume in drive C is Windows\n",
      " Volume Serial Number is 2208-479F\n",
      "\n",
      " Directory of C:\\Users\\Aditya\\Desktop\\Comparative&RegulatoryGenomics\\Vera\\bigAss\n",
      "\n",
      "16-12-2020  16:30    <DIR>          .\n",
      "16-12-2020  16:30    <DIR>          ..\n",
      "24-11-2020  18:29         1,047,200 chat_bigass.docx\n",
      "24-11-2020  00:44            71,865 GradedAssig.pdf\n",
      "16-12-2020  16:30        28,762,152 interim_bbh_aol.tsv\n",
      "16-12-2020  16:30        29,318,659 interim_bbh_loa.tsv\n",
      "10-12-2020  20:36            14,051 report_AdityaBadola.docx\n",
      "               5 File(s)     59,213,927 bytes\n",
      "               2 Dir(s)  88,289,243,136 bytes free\n"
     ]
    }
   ],
   "source": [
    "ls"
   ]
  },
  {
   "cell_type": "markdown",
   "metadata": {},
   "source": [
    "# ORTHOLOGS"
   ]
  },
  {
   "cell_type": "code",
   "execution_count": 1,
   "metadata": {},
   "outputs": [],
   "source": [
    "import pandas as pd\n",
    "aol = pd.read_csv('interim_bbh_aol.tsv',sep=\"\\t\", header=None)\n",
    "loa = pd.read_csv('interim_bbh_loa.tsv',sep=\"\\t\", header=None)"
   ]
  },
  {
   "cell_type": "code",
   "execution_count": 2,
   "metadata": {},
   "outputs": [],
   "source": [
    "aol.columns=['query','subject','evalue']\n",
    "loa.columns=['subject','query','evalue']"
   ]
  },
  {
   "cell_type": "code",
   "execution_count": 3,
   "metadata": {},
   "outputs": [
    {
     "data": {
      "text/html": [
       "<div>\n",
       "<style scoped>\n",
       "    .dataframe tbody tr th:only-of-type {\n",
       "        vertical-align: middle;\n",
       "    }\n",
       "\n",
       "    .dataframe tbody tr th {\n",
       "        vertical-align: top;\n",
       "    }\n",
       "\n",
       "    .dataframe thead th {\n",
       "        text-align: right;\n",
       "    }\n",
       "</style>\n",
       "<table border=\"1\" class=\"dataframe\">\n",
       "  <thead>\n",
       "    <tr style=\"text-align: right;\">\n",
       "      <th></th>\n",
       "      <th>query</th>\n",
       "      <th>subject</th>\n",
       "      <th>evalue</th>\n",
       "    </tr>\n",
       "  </thead>\n",
       "  <tbody>\n",
       "    <tr>\n",
       "      <th>0</th>\n",
       "      <td>sp|P00630|PA2_APIME</td>\n",
       "      <td>tr|H3A0T4|H3A0T4_LATCH</td>\n",
       "      <td>6.220000e-24</td>\n",
       "    </tr>\n",
       "    <tr>\n",
       "      <th>1</th>\n",
       "      <td>sp|P00630|PA2_APIME</td>\n",
       "      <td>tr|H3BFR1|H3BFR1_LATCH</td>\n",
       "      <td>1.510000e-23</td>\n",
       "    </tr>\n",
       "    <tr>\n",
       "      <th>2</th>\n",
       "      <td>sp|Q2V0C9|CBS_APIME</td>\n",
       "      <td>tr|M3XKQ6|M3XKQ6_LATCH</td>\n",
       "      <td>2.980000e-166</td>\n",
       "    </tr>\n",
       "    <tr>\n",
       "      <th>3</th>\n",
       "      <td>sp|Q2V0C9|CBS_APIME</td>\n",
       "      <td>tr|H3ADZ0|H3ADZ0_LATCH</td>\n",
       "      <td>4.990000e-166</td>\n",
       "    </tr>\n",
       "    <tr>\n",
       "      <th>4</th>\n",
       "      <td>sp|Q2V0C9|CBS_APIME</td>\n",
       "      <td>tr|H3ADZ1|H3ADZ1_LATCH</td>\n",
       "      <td>6.500000e-164</td>\n",
       "    </tr>\n",
       "  </tbody>\n",
       "</table>\n",
       "</div>"
      ],
      "text/plain": [
       "                 query                 subject         evalue\n",
       "0  sp|P00630|PA2_APIME  tr|H3A0T4|H3A0T4_LATCH   6.220000e-24\n",
       "1  sp|P00630|PA2_APIME  tr|H3BFR1|H3BFR1_LATCH   1.510000e-23\n",
       "2  sp|Q2V0C9|CBS_APIME  tr|M3XKQ6|M3XKQ6_LATCH  2.980000e-166\n",
       "3  sp|Q2V0C9|CBS_APIME  tr|H3ADZ0|H3ADZ0_LATCH  4.990000e-166\n",
       "4  sp|Q2V0C9|CBS_APIME  tr|H3ADZ1|H3ADZ1_LATCH  6.500000e-164"
      ]
     },
     "execution_count": 3,
     "metadata": {},
     "output_type": "execute_result"
    }
   ],
   "source": [
    "aol.head()"
   ]
  },
  {
   "cell_type": "code",
   "execution_count": 4,
   "metadata": {},
   "outputs": [
    {
     "data": {
      "text/html": [
       "<div>\n",
       "<style scoped>\n",
       "    .dataframe tbody tr th:only-of-type {\n",
       "        vertical-align: middle;\n",
       "    }\n",
       "\n",
       "    .dataframe tbody tr th {\n",
       "        vertical-align: top;\n",
       "    }\n",
       "\n",
       "    .dataframe thead th {\n",
       "        text-align: right;\n",
       "    }\n",
       "</style>\n",
       "<table border=\"1\" class=\"dataframe\">\n",
       "  <thead>\n",
       "    <tr style=\"text-align: right;\">\n",
       "      <th></th>\n",
       "      <th>subject</th>\n",
       "      <th>query</th>\n",
       "      <th>evalue</th>\n",
       "    </tr>\n",
       "  </thead>\n",
       "  <tbody>\n",
       "    <tr>\n",
       "      <th>0</th>\n",
       "      <td>sp|H3BCW1|ADPRS_LATCH</td>\n",
       "      <td>tr|A0A088AIP6|A0A088AIP6_APIME</td>\n",
       "      <td>1.110000e-77</td>\n",
       "    </tr>\n",
       "    <tr>\n",
       "      <th>1</th>\n",
       "      <td>tr|H2ZZD7|H2ZZD7_LATCH</td>\n",
       "      <td>tr|A0A088APW7|A0A088APW7_APIME</td>\n",
       "      <td>2.040000e-176</td>\n",
       "    </tr>\n",
       "    <tr>\n",
       "      <th>2</th>\n",
       "      <td>tr|H2ZZD7|H2ZZD7_LATCH</td>\n",
       "      <td>tr|A0A088A6V2|A0A088A6V2_APIME</td>\n",
       "      <td>2.020000e-39</td>\n",
       "    </tr>\n",
       "    <tr>\n",
       "      <th>3</th>\n",
       "      <td>tr|H2ZZD7|H2ZZD7_LATCH</td>\n",
       "      <td>tr|A0A088APN5|A0A088APN5_APIME</td>\n",
       "      <td>6.330000e-30</td>\n",
       "    </tr>\n",
       "    <tr>\n",
       "      <th>4</th>\n",
       "      <td>tr|H3AY86|H3AY86_LATCH</td>\n",
       "      <td>tr|A0A088AP68|A0A088AP68_APIME</td>\n",
       "      <td>0.000000e+00</td>\n",
       "    </tr>\n",
       "  </tbody>\n",
       "</table>\n",
       "</div>"
      ],
      "text/plain": [
       "                  subject                           query         evalue\n",
       "0   sp|H3BCW1|ADPRS_LATCH  tr|A0A088AIP6|A0A088AIP6_APIME   1.110000e-77\n",
       "1  tr|H2ZZD7|H2ZZD7_LATCH  tr|A0A088APW7|A0A088APW7_APIME  2.040000e-176\n",
       "2  tr|H2ZZD7|H2ZZD7_LATCH  tr|A0A088A6V2|A0A088A6V2_APIME   2.020000e-39\n",
       "3  tr|H2ZZD7|H2ZZD7_LATCH  tr|A0A088APN5|A0A088APN5_APIME   6.330000e-30\n",
       "4  tr|H3AY86|H3AY86_LATCH  tr|A0A088AP68|A0A088AP68_APIME   0.000000e+00"
      ]
     },
     "execution_count": 4,
     "metadata": {},
     "output_type": "execute_result"
    }
   ],
   "source": [
    "loa.head()"
   ]
  },
  {
   "cell_type": "code",
   "execution_count": 5,
   "metadata": {},
   "outputs": [
    {
     "data": {
      "text/plain": [
       "461973"
      ]
     },
     "execution_count": 5,
     "metadata": {},
     "output_type": "execute_result"
    }
   ],
   "source": [
    "#BLASTP HITS FOR APIS FOUND IN LATIMERIA\n",
    "len(aol)"
   ]
  },
  {
   "cell_type": "code",
   "execution_count": 6,
   "metadata": {},
   "outputs": [
    {
     "data": {
      "text/plain": [
       "470804"
      ]
     },
     "execution_count": 6,
     "metadata": {},
     "output_type": "execute_result"
    }
   ],
   "source": [
    "#BLASTP HITS FOR LATIMERIA FOUND IN APIS\n",
    "len(loa)"
   ]
  },
  {
   "cell_type": "code",
   "execution_count": 52,
   "metadata": {},
   "outputs": [],
   "source": [
    "aol.columns=['query','subject','evalue']\n",
    "loa.columns=['subject','query','evalue']"
   ]
  },
  {
   "cell_type": "code",
   "execution_count": 22,
   "metadata": {},
   "outputs": [
    {
     "data": {
      "text/html": [
       "<div>\n",
       "<style scoped>\n",
       "    .dataframe tbody tr th:only-of-type {\n",
       "        vertical-align: middle;\n",
       "    }\n",
       "\n",
       "    .dataframe tbody tr th {\n",
       "        vertical-align: top;\n",
       "    }\n",
       "\n",
       "    .dataframe thead th {\n",
       "        text-align: right;\n",
       "    }\n",
       "</style>\n",
       "<table border=\"1\" class=\"dataframe\">\n",
       "  <thead>\n",
       "    <tr style=\"text-align: right;\">\n",
       "      <th></th>\n",
       "      <th>query</th>\n",
       "      <th>subject</th>\n",
       "      <th>evalue</th>\n",
       "    </tr>\n",
       "  </thead>\n",
       "  <tbody>\n",
       "    <tr>\n",
       "      <th>0</th>\n",
       "      <td>sp|P00630|PA2_APIME</td>\n",
       "      <td>tr|H3A0T4|H3A0T4_LATCH</td>\n",
       "      <td>6.220000e-24</td>\n",
       "    </tr>\n",
       "    <tr>\n",
       "      <th>1</th>\n",
       "      <td>sp|Q2V0C9|CBS_APIME</td>\n",
       "      <td>tr|M3XKQ6|M3XKQ6_LATCH</td>\n",
       "      <td>2.980000e-166</td>\n",
       "    </tr>\n",
       "    <tr>\n",
       "      <th>2</th>\n",
       "      <td>tr|A0A087ZUF5|A0A087ZUF5_APIME</td>\n",
       "      <td>tr|H3B5Q5|H3B5Q5_LATCH</td>\n",
       "      <td>6.590000e-48</td>\n",
       "    </tr>\n",
       "    <tr>\n",
       "      <th>3</th>\n",
       "      <td>tr|A0A088AP68|A0A088AP68_APIME</td>\n",
       "      <td>tr|H3AY86|H3AY86_LATCH</td>\n",
       "      <td>0.000000e+00</td>\n",
       "    </tr>\n",
       "    <tr>\n",
       "      <th>4</th>\n",
       "      <td>sp|Q08169|HUGA_APIME</td>\n",
       "      <td>tr|H2ZSB5|H2ZSB5_LATCH</td>\n",
       "      <td>2.130000e-52</td>\n",
       "    </tr>\n",
       "  </tbody>\n",
       "</table>\n",
       "</div>"
      ],
      "text/plain": [
       "                            query                 subject         evalue\n",
       "0             sp|P00630|PA2_APIME  tr|H3A0T4|H3A0T4_LATCH   6.220000e-24\n",
       "1             sp|Q2V0C9|CBS_APIME  tr|M3XKQ6|M3XKQ6_LATCH  2.980000e-166\n",
       "2  tr|A0A087ZUF5|A0A087ZUF5_APIME  tr|H3B5Q5|H3B5Q5_LATCH   6.590000e-48\n",
       "3  tr|A0A088AP68|A0A088AP68_APIME  tr|H3AY86|H3AY86_LATCH   0.000000e+00\n",
       "4            sp|Q08169|HUGA_APIME  tr|H2ZSB5|H2ZSB5_LATCH   2.130000e-52"
      ]
     },
     "execution_count": 22,
     "metadata": {},
     "output_type": "execute_result"
    }
   ],
   "source": [
    "#Filtered based on smallest e value\n",
    "aol_besteval = aol.drop_duplicates(subset='query')\n",
    "aol_besteval = aol_besteval.reset_index(drop=True)\n",
    "aol_besteval.head()"
   ]
  },
  {
   "cell_type": "code",
   "execution_count": 23,
   "metadata": {},
   "outputs": [
    {
     "data": {
      "text/html": [
       "<div>\n",
       "<style scoped>\n",
       "    .dataframe tbody tr th:only-of-type {\n",
       "        vertical-align: middle;\n",
       "    }\n",
       "\n",
       "    .dataframe tbody tr th {\n",
       "        vertical-align: top;\n",
       "    }\n",
       "\n",
       "    .dataframe thead th {\n",
       "        text-align: right;\n",
       "    }\n",
       "</style>\n",
       "<table border=\"1\" class=\"dataframe\">\n",
       "  <thead>\n",
       "    <tr style=\"text-align: right;\">\n",
       "      <th></th>\n",
       "      <th>subject</th>\n",
       "      <th>query</th>\n",
       "      <th>evalue</th>\n",
       "    </tr>\n",
       "  </thead>\n",
       "  <tbody>\n",
       "    <tr>\n",
       "      <th>0</th>\n",
       "      <td>sp|H3BCW1|ADPRS_LATCH</td>\n",
       "      <td>tr|A0A088AIP6|A0A088AIP6_APIME</td>\n",
       "      <td>1.110000e-77</td>\n",
       "    </tr>\n",
       "    <tr>\n",
       "      <th>1</th>\n",
       "      <td>tr|H2ZZD7|H2ZZD7_LATCH</td>\n",
       "      <td>tr|A0A088APW7|A0A088APW7_APIME</td>\n",
       "      <td>2.040000e-176</td>\n",
       "    </tr>\n",
       "    <tr>\n",
       "      <th>2</th>\n",
       "      <td>tr|H2ZZD7|H2ZZD7_LATCH</td>\n",
       "      <td>tr|A0A088A6V2|A0A088A6V2_APIME</td>\n",
       "      <td>2.020000e-39</td>\n",
       "    </tr>\n",
       "    <tr>\n",
       "      <th>3</th>\n",
       "      <td>tr|H2ZZD7|H2ZZD7_LATCH</td>\n",
       "      <td>tr|A0A088APN5|A0A088APN5_APIME</td>\n",
       "      <td>6.330000e-30</td>\n",
       "    </tr>\n",
       "    <tr>\n",
       "      <th>4</th>\n",
       "      <td>tr|H3AY86|H3AY86_LATCH</td>\n",
       "      <td>tr|A0A088AP68|A0A088AP68_APIME</td>\n",
       "      <td>0.000000e+00</td>\n",
       "    </tr>\n",
       "  </tbody>\n",
       "</table>\n",
       "</div>"
      ],
      "text/plain": [
       "                  subject                           query         evalue\n",
       "0   sp|H3BCW1|ADPRS_LATCH  tr|A0A088AIP6|A0A088AIP6_APIME   1.110000e-77\n",
       "1  tr|H2ZZD7|H2ZZD7_LATCH  tr|A0A088APW7|A0A088APW7_APIME  2.040000e-176\n",
       "2  tr|H2ZZD7|H2ZZD7_LATCH  tr|A0A088A6V2|A0A088A6V2_APIME   2.020000e-39\n",
       "3  tr|H2ZZD7|H2ZZD7_LATCH  tr|A0A088APN5|A0A088APN5_APIME   6.330000e-30\n",
       "4  tr|H3AY86|H3AY86_LATCH  tr|A0A088AP68|A0A088AP68_APIME   0.000000e+00"
      ]
     },
     "execution_count": 23,
     "metadata": {},
     "output_type": "execute_result"
    }
   ],
   "source": [
    "loa_besteval = loa.drop_duplicates(subset='query')\n",
    "loa_besteval.head()"
   ]
  },
  {
   "cell_type": "code",
   "execution_count": 24,
   "metadata": {},
   "outputs": [],
   "source": [
    "common_bbh = pd.merge(aol_besteval, loa_besteval, on='query', how='inner')"
   ]
  },
  {
   "cell_type": "code",
   "execution_count": 25,
   "metadata": {},
   "outputs": [
    {
     "data": {
      "text/html": [
       "<div>\n",
       "<style scoped>\n",
       "    .dataframe tbody tr th:only-of-type {\n",
       "        vertical-align: middle;\n",
       "    }\n",
       "\n",
       "    .dataframe tbody tr th {\n",
       "        vertical-align: top;\n",
       "    }\n",
       "\n",
       "    .dataframe thead th {\n",
       "        text-align: right;\n",
       "    }\n",
       "</style>\n",
       "<table border=\"1\" class=\"dataframe\">\n",
       "  <thead>\n",
       "    <tr style=\"text-align: right;\">\n",
       "      <th></th>\n",
       "      <th>query</th>\n",
       "      <th>subject_x</th>\n",
       "      <th>evalue_x</th>\n",
       "      <th>subject_y</th>\n",
       "      <th>evalue_y</th>\n",
       "    </tr>\n",
       "  </thead>\n",
       "  <tbody>\n",
       "    <tr>\n",
       "      <th>0</th>\n",
       "      <td>sp|P00630|PA2_APIME</td>\n",
       "      <td>tr|H3A0T4|H3A0T4_LATCH</td>\n",
       "      <td>6.220000e-24</td>\n",
       "      <td>tr|H3BFR1|H3BFR1_LATCH</td>\n",
       "      <td>2.990000e-23</td>\n",
       "    </tr>\n",
       "    <tr>\n",
       "      <th>1</th>\n",
       "      <td>sp|Q2V0C9|CBS_APIME</td>\n",
       "      <td>tr|M3XKQ6|M3XKQ6_LATCH</td>\n",
       "      <td>2.980000e-166</td>\n",
       "      <td>tr|H3ADZ1|H3ADZ1_LATCH</td>\n",
       "      <td>2.050000e-162</td>\n",
       "    </tr>\n",
       "    <tr>\n",
       "      <th>2</th>\n",
       "      <td>tr|A0A087ZUF5|A0A087ZUF5_APIME</td>\n",
       "      <td>tr|H3B5Q5|H3B5Q5_LATCH</td>\n",
       "      <td>6.590000e-48</td>\n",
       "      <td>tr|H3AIU9|H3AIU9_LATCH</td>\n",
       "      <td>1.360000e-45</td>\n",
       "    </tr>\n",
       "    <tr>\n",
       "      <th>3</th>\n",
       "      <td>tr|A0A088AP68|A0A088AP68_APIME</td>\n",
       "      <td>tr|H3AY86|H3AY86_LATCH</td>\n",
       "      <td>0.000000e+00</td>\n",
       "      <td>tr|H3AY86|H3AY86_LATCH</td>\n",
       "      <td>0.000000e+00</td>\n",
       "    </tr>\n",
       "    <tr>\n",
       "      <th>4</th>\n",
       "      <td>sp|Q08169|HUGA_APIME</td>\n",
       "      <td>tr|H2ZSB5|H2ZSB5_LATCH</td>\n",
       "      <td>2.130000e-52</td>\n",
       "      <td>tr|H3A0D6|H3A0D6_LATCH</td>\n",
       "      <td>2.820000e-44</td>\n",
       "    </tr>\n",
       "  </tbody>\n",
       "</table>\n",
       "</div>"
      ],
      "text/plain": [
       "                            query               subject_x       evalue_x  \\\n",
       "0             sp|P00630|PA2_APIME  tr|H3A0T4|H3A0T4_LATCH   6.220000e-24   \n",
       "1             sp|Q2V0C9|CBS_APIME  tr|M3XKQ6|M3XKQ6_LATCH  2.980000e-166   \n",
       "2  tr|A0A087ZUF5|A0A087ZUF5_APIME  tr|H3B5Q5|H3B5Q5_LATCH   6.590000e-48   \n",
       "3  tr|A0A088AP68|A0A088AP68_APIME  tr|H3AY86|H3AY86_LATCH   0.000000e+00   \n",
       "4            sp|Q08169|HUGA_APIME  tr|H2ZSB5|H2ZSB5_LATCH   2.130000e-52   \n",
       "\n",
       "                subject_y       evalue_y  \n",
       "0  tr|H3BFR1|H3BFR1_LATCH   2.990000e-23  \n",
       "1  tr|H3ADZ1|H3ADZ1_LATCH  2.050000e-162  \n",
       "2  tr|H3AIU9|H3AIU9_LATCH   1.360000e-45  \n",
       "3  tr|H3AY86|H3AY86_LATCH   0.000000e+00  \n",
       "4  tr|H3A0D6|H3A0D6_LATCH   2.820000e-44  "
      ]
     },
     "execution_count": 25,
     "metadata": {},
     "output_type": "execute_result"
    }
   ],
   "source": [
    "common_bbh.head()"
   ]
  },
  {
   "cell_type": "code",
   "execution_count": 26,
   "metadata": {},
   "outputs": [],
   "source": [
    "common_bbh['evalue'] = common_bbh[['evalue_x','evalue_y']].min(axis=1)"
   ]
  },
  {
   "cell_type": "code",
   "execution_count": 27,
   "metadata": {},
   "outputs": [
    {
     "data": {
      "text/html": [
       "<div>\n",
       "<style scoped>\n",
       "    .dataframe tbody tr th:only-of-type {\n",
       "        vertical-align: middle;\n",
       "    }\n",
       "\n",
       "    .dataframe tbody tr th {\n",
       "        vertical-align: top;\n",
       "    }\n",
       "\n",
       "    .dataframe thead th {\n",
       "        text-align: right;\n",
       "    }\n",
       "</style>\n",
       "<table border=\"1\" class=\"dataframe\">\n",
       "  <thead>\n",
       "    <tr style=\"text-align: right;\">\n",
       "      <th></th>\n",
       "      <th>query</th>\n",
       "      <th>subject_x</th>\n",
       "      <th>evalue_x</th>\n",
       "      <th>subject_y</th>\n",
       "      <th>evalue_y</th>\n",
       "      <th>evalue</th>\n",
       "    </tr>\n",
       "  </thead>\n",
       "  <tbody>\n",
       "    <tr>\n",
       "      <th>0</th>\n",
       "      <td>sp|P00630|PA2_APIME</td>\n",
       "      <td>tr|H3A0T4|H3A0T4_LATCH</td>\n",
       "      <td>6.220000e-24</td>\n",
       "      <td>tr|H3BFR1|H3BFR1_LATCH</td>\n",
       "      <td>2.990000e-23</td>\n",
       "      <td>6.220000e-24</td>\n",
       "    </tr>\n",
       "    <tr>\n",
       "      <th>1</th>\n",
       "      <td>sp|Q2V0C9|CBS_APIME</td>\n",
       "      <td>tr|M3XKQ6|M3XKQ6_LATCH</td>\n",
       "      <td>2.980000e-166</td>\n",
       "      <td>tr|H3ADZ1|H3ADZ1_LATCH</td>\n",
       "      <td>2.050000e-162</td>\n",
       "      <td>2.980000e-166</td>\n",
       "    </tr>\n",
       "    <tr>\n",
       "      <th>2</th>\n",
       "      <td>tr|A0A087ZUF5|A0A087ZUF5_APIME</td>\n",
       "      <td>tr|H3B5Q5|H3B5Q5_LATCH</td>\n",
       "      <td>6.590000e-48</td>\n",
       "      <td>tr|H3AIU9|H3AIU9_LATCH</td>\n",
       "      <td>1.360000e-45</td>\n",
       "      <td>6.590000e-48</td>\n",
       "    </tr>\n",
       "    <tr>\n",
       "      <th>3</th>\n",
       "      <td>tr|A0A088AP68|A0A088AP68_APIME</td>\n",
       "      <td>tr|H3AY86|H3AY86_LATCH</td>\n",
       "      <td>0.000000e+00</td>\n",
       "      <td>tr|H3AY86|H3AY86_LATCH</td>\n",
       "      <td>0.000000e+00</td>\n",
       "      <td>0.000000e+00</td>\n",
       "    </tr>\n",
       "    <tr>\n",
       "      <th>4</th>\n",
       "      <td>sp|Q08169|HUGA_APIME</td>\n",
       "      <td>tr|H2ZSB5|H2ZSB5_LATCH</td>\n",
       "      <td>2.130000e-52</td>\n",
       "      <td>tr|H3A0D6|H3A0D6_LATCH</td>\n",
       "      <td>2.820000e-44</td>\n",
       "      <td>2.130000e-52</td>\n",
       "    </tr>\n",
       "  </tbody>\n",
       "</table>\n",
       "</div>"
      ],
      "text/plain": [
       "                            query               subject_x       evalue_x  \\\n",
       "0             sp|P00630|PA2_APIME  tr|H3A0T4|H3A0T4_LATCH   6.220000e-24   \n",
       "1             sp|Q2V0C9|CBS_APIME  tr|M3XKQ6|M3XKQ6_LATCH  2.980000e-166   \n",
       "2  tr|A0A087ZUF5|A0A087ZUF5_APIME  tr|H3B5Q5|H3B5Q5_LATCH   6.590000e-48   \n",
       "3  tr|A0A088AP68|A0A088AP68_APIME  tr|H3AY86|H3AY86_LATCH   0.000000e+00   \n",
       "4            sp|Q08169|HUGA_APIME  tr|H2ZSB5|H2ZSB5_LATCH   2.130000e-52   \n",
       "\n",
       "                subject_y       evalue_y         evalue  \n",
       "0  tr|H3BFR1|H3BFR1_LATCH   2.990000e-23   6.220000e-24  \n",
       "1  tr|H3ADZ1|H3ADZ1_LATCH  2.050000e-162  2.980000e-166  \n",
       "2  tr|H3AIU9|H3AIU9_LATCH   1.360000e-45   6.590000e-48  \n",
       "3  tr|H3AY86|H3AY86_LATCH   0.000000e+00   0.000000e+00  \n",
       "4  tr|H3A0D6|H3A0D6_LATCH   2.820000e-44   2.130000e-52  "
      ]
     },
     "execution_count": 27,
     "metadata": {},
     "output_type": "execute_result"
    }
   ],
   "source": [
    "common_bbh.head()"
   ]
  },
  {
   "cell_type": "code",
   "execution_count": 28,
   "metadata": {},
   "outputs": [],
   "source": [
    "common_bbh=common_bbh.reset_index(drop=True)\n",
    "final_bbh = common_bbh[['query','subject_x','evalue']]\n",
    "final_bbh.columns=['query','subject','evalue']"
   ]
  },
  {
   "cell_type": "code",
   "execution_count": 29,
   "metadata": {},
   "outputs": [
    {
     "data": {
      "text/html": [
       "<div>\n",
       "<style scoped>\n",
       "    .dataframe tbody tr th:only-of-type {\n",
       "        vertical-align: middle;\n",
       "    }\n",
       "\n",
       "    .dataframe tbody tr th {\n",
       "        vertical-align: top;\n",
       "    }\n",
       "\n",
       "    .dataframe thead th {\n",
       "        text-align: right;\n",
       "    }\n",
       "</style>\n",
       "<table border=\"1\" class=\"dataframe\">\n",
       "  <thead>\n",
       "    <tr style=\"text-align: right;\">\n",
       "      <th></th>\n",
       "      <th>query</th>\n",
       "      <th>subject</th>\n",
       "      <th>evalue</th>\n",
       "    </tr>\n",
       "  </thead>\n",
       "  <tbody>\n",
       "    <tr>\n",
       "      <th>0</th>\n",
       "      <td>sp|P00630|PA2_APIME</td>\n",
       "      <td>tr|H3A0T4|H3A0T4_LATCH</td>\n",
       "      <td>6.220000e-24</td>\n",
       "    </tr>\n",
       "    <tr>\n",
       "      <th>1</th>\n",
       "      <td>sp|Q2V0C9|CBS_APIME</td>\n",
       "      <td>tr|M3XKQ6|M3XKQ6_LATCH</td>\n",
       "      <td>2.980000e-166</td>\n",
       "    </tr>\n",
       "    <tr>\n",
       "      <th>2</th>\n",
       "      <td>tr|A0A087ZUF5|A0A087ZUF5_APIME</td>\n",
       "      <td>tr|H3B5Q5|H3B5Q5_LATCH</td>\n",
       "      <td>6.590000e-48</td>\n",
       "    </tr>\n",
       "    <tr>\n",
       "      <th>3</th>\n",
       "      <td>tr|A0A088AP68|A0A088AP68_APIME</td>\n",
       "      <td>tr|H3AY86|H3AY86_LATCH</td>\n",
       "      <td>0.000000e+00</td>\n",
       "    </tr>\n",
       "    <tr>\n",
       "      <th>4</th>\n",
       "      <td>sp|Q08169|HUGA_APIME</td>\n",
       "      <td>tr|H2ZSB5|H2ZSB5_LATCH</td>\n",
       "      <td>2.130000e-52</td>\n",
       "    </tr>\n",
       "  </tbody>\n",
       "</table>\n",
       "</div>"
      ],
      "text/plain": [
       "                            query                 subject         evalue\n",
       "0             sp|P00630|PA2_APIME  tr|H3A0T4|H3A0T4_LATCH   6.220000e-24\n",
       "1             sp|Q2V0C9|CBS_APIME  tr|M3XKQ6|M3XKQ6_LATCH  2.980000e-166\n",
       "2  tr|A0A087ZUF5|A0A087ZUF5_APIME  tr|H3B5Q5|H3B5Q5_LATCH   6.590000e-48\n",
       "3  tr|A0A088AP68|A0A088AP68_APIME  tr|H3AY86|H3AY86_LATCH   0.000000e+00\n",
       "4            sp|Q08169|HUGA_APIME  tr|H2ZSB5|H2ZSB5_LATCH   2.130000e-52"
      ]
     },
     "execution_count": 29,
     "metadata": {},
     "output_type": "execute_result"
    }
   ],
   "source": [
    "final_bbh.head()"
   ]
  },
  {
   "cell_type": "code",
   "execution_count": 30,
   "metadata": {},
   "outputs": [
    {
     "data": {
      "text/plain": [
       "11003"
      ]
     },
     "execution_count": 30,
     "metadata": {},
     "output_type": "execute_result"
    }
   ],
   "source": [
    "len(final_bbh)"
   ]
  },
  {
   "cell_type": "code",
   "execution_count": 71,
   "metadata": {},
   "outputs": [],
   "source": [
    "final_bbh.to_csv(\"common_BBH.tsv\",sep='\\t',index=False)"
   ]
  },
  {
   "cell_type": "markdown",
   "metadata": {},
   "source": [
    "# PARALOGS"
   ]
  },
  {
   "cell_type": "code",
   "execution_count": 1,
   "metadata": {},
   "outputs": [],
   "source": [
    "#Extract second most significant hit for inparalogs (not their own hits basically)"
   ]
  },
  {
   "cell_type": "code",
   "execution_count": 2,
   "metadata": {},
   "outputs": [],
   "source": [
    "import pandas as pd"
   ]
  },
  {
   "cell_type": "code",
   "execution_count": 32,
   "metadata": {},
   "outputs": [],
   "source": [
    "aoa = pd.read_csv('revised_inparalogs_apis.tsv',header=None,sep='\\t')\n",
    "lol = pd.read_csv('revised_inparalogs_latis.tsv',header=None,sep='\\t')"
   ]
  },
  {
   "cell_type": "code",
   "execution_count": 3,
   "metadata": {},
   "outputs": [
    {
     "data": {
      "text/html": [
       "<div>\n",
       "<style scoped>\n",
       "    .dataframe tbody tr th:only-of-type {\n",
       "        vertical-align: middle;\n",
       "    }\n",
       "\n",
       "    .dataframe tbody tr th {\n",
       "        vertical-align: top;\n",
       "    }\n",
       "\n",
       "    .dataframe thead th {\n",
       "        text-align: right;\n",
       "    }\n",
       "</style>\n",
       "<table border=\"1\" class=\"dataframe\">\n",
       "  <thead>\n",
       "    <tr style=\"text-align: right;\">\n",
       "      <th></th>\n",
       "      <th>0</th>\n",
       "      <th>1</th>\n",
       "      <th>2</th>\n",
       "    </tr>\n",
       "  </thead>\n",
       "  <tbody>\n",
       "    <tr>\n",
       "      <th>0</th>\n",
       "      <td>sp|O18330|MRJP1_APIME</td>\n",
       "      <td>sp|O18330|MRJP1_APIME</td>\n",
       "      <td>0.0</td>\n",
       "    </tr>\n",
       "    <tr>\n",
       "      <th>1</th>\n",
       "      <td>sp|O18330|MRJP1_APIME</td>\n",
       "      <td>sp|O77061|MRJP2_APIME</td>\n",
       "      <td>0.0</td>\n",
       "    </tr>\n",
       "    <tr>\n",
       "      <th>2</th>\n",
       "      <td>sp|O18330|MRJP1_APIME</td>\n",
       "      <td>tr|A0A1Q1N6G0|A0A1Q1N6G0_APICA</td>\n",
       "      <td>0.0</td>\n",
       "    </tr>\n",
       "    <tr>\n",
       "      <th>3</th>\n",
       "      <td>sp|O18330|MRJP1_APIME</td>\n",
       "      <td>tr|Q6IMJ9|Q6IMJ9_APIME</td>\n",
       "      <td>0.0</td>\n",
       "    </tr>\n",
       "    <tr>\n",
       "      <th>4</th>\n",
       "      <td>sp|O18330|MRJP1_APIME</td>\n",
       "      <td>tr|A0A088AU27|A0A088AU27_APIME</td>\n",
       "      <td>0.0</td>\n",
       "    </tr>\n",
       "    <tr>\n",
       "      <th>5</th>\n",
       "      <td>sp|O18330|MRJP1_APIME</td>\n",
       "      <td>tr|A0A088AU26|A0A088AU26_APIME</td>\n",
       "      <td>0.0</td>\n",
       "    </tr>\n",
       "    <tr>\n",
       "      <th>6</th>\n",
       "      <td>sp|O18330|MRJP1_APIME</td>\n",
       "      <td>tr|Q6W3E3|Q6W3E3_APIME</td>\n",
       "      <td>0.0</td>\n",
       "    </tr>\n",
       "    <tr>\n",
       "      <th>7</th>\n",
       "      <td>sp|O18330|MRJP1_APIME</td>\n",
       "      <td>tr|A0A088AU21|A0A088AU21_APIME</td>\n",
       "      <td>0.0</td>\n",
       "    </tr>\n",
       "    <tr>\n",
       "      <th>8</th>\n",
       "      <td>sp|O18330|MRJP1_APIME</td>\n",
       "      <td>tr|Q3L632|Q3L632_APICA</td>\n",
       "      <td>0.0</td>\n",
       "    </tr>\n",
       "    <tr>\n",
       "      <th>9</th>\n",
       "      <td>sp|O18330|MRJP1_APIME</td>\n",
       "      <td>tr|D3Y5T0|D3Y5T0_APIME</td>\n",
       "      <td>0.0</td>\n",
       "    </tr>\n",
       "  </tbody>\n",
       "</table>\n",
       "</div>"
      ],
      "text/plain": [
       "                       0                               1    2\n",
       "0  sp|O18330|MRJP1_APIME           sp|O18330|MRJP1_APIME  0.0\n",
       "1  sp|O18330|MRJP1_APIME           sp|O77061|MRJP2_APIME  0.0\n",
       "2  sp|O18330|MRJP1_APIME  tr|A0A1Q1N6G0|A0A1Q1N6G0_APICA  0.0\n",
       "3  sp|O18330|MRJP1_APIME          tr|Q6IMJ9|Q6IMJ9_APIME  0.0\n",
       "4  sp|O18330|MRJP1_APIME  tr|A0A088AU27|A0A088AU27_APIME  0.0\n",
       "5  sp|O18330|MRJP1_APIME  tr|A0A088AU26|A0A088AU26_APIME  0.0\n",
       "6  sp|O18330|MRJP1_APIME          tr|Q6W3E3|Q6W3E3_APIME  0.0\n",
       "7  sp|O18330|MRJP1_APIME  tr|A0A088AU21|A0A088AU21_APIME  0.0\n",
       "8  sp|O18330|MRJP1_APIME          tr|Q3L632|Q3L632_APICA  0.0\n",
       "9  sp|O18330|MRJP1_APIME          tr|D3Y5T0|D3Y5T0_APIME  0.0"
      ]
     },
     "execution_count": 3,
     "metadata": {},
     "output_type": "execute_result"
    }
   ],
   "source": [
    "aoa.head(n=10)"
   ]
  },
  {
   "cell_type": "code",
   "execution_count": 4,
   "metadata": {},
   "outputs": [
    {
     "data": {
      "text/html": [
       "<div>\n",
       "<style scoped>\n",
       "    .dataframe tbody tr th:only-of-type {\n",
       "        vertical-align: middle;\n",
       "    }\n",
       "\n",
       "    .dataframe tbody tr th {\n",
       "        vertical-align: top;\n",
       "    }\n",
       "\n",
       "    .dataframe thead th {\n",
       "        text-align: right;\n",
       "    }\n",
       "</style>\n",
       "<table border=\"1\" class=\"dataframe\">\n",
       "  <thead>\n",
       "    <tr style=\"text-align: right;\">\n",
       "      <th></th>\n",
       "      <th>0</th>\n",
       "      <th>1</th>\n",
       "      <th>2</th>\n",
       "    </tr>\n",
       "  </thead>\n",
       "  <tbody>\n",
       "    <tr>\n",
       "      <th>0</th>\n",
       "      <td>sp|O18330|MRJP1_APIME</td>\n",
       "      <td>sp|O18330|MRJP1_APIME</td>\n",
       "      <td>0.000000e+00</td>\n",
       "    </tr>\n",
       "    <tr>\n",
       "      <th>1</th>\n",
       "      <td>sp|O18330|MRJP1_APIME</td>\n",
       "      <td>sp|O77061|MRJP2_APIME</td>\n",
       "      <td>0.000000e+00</td>\n",
       "    </tr>\n",
       "    <tr>\n",
       "      <th>2</th>\n",
       "      <td>sp|P01501|MEL_APIME</td>\n",
       "      <td>tr|I3RJI9|I3RJI9_APICA</td>\n",
       "      <td>5.140000e-46</td>\n",
       "    </tr>\n",
       "    <tr>\n",
       "      <th>3</th>\n",
       "      <td>sp|P01501|MEL_APIME</td>\n",
       "      <td>sp|P01501|MEL_APIME</td>\n",
       "      <td>5.140000e-46</td>\n",
       "    </tr>\n",
       "    <tr>\n",
       "      <th>4</th>\n",
       "      <td>sp|P00630|PA2_APIME</td>\n",
       "      <td>tr|B7UUK1|B7UUK1_APIME</td>\n",
       "      <td>2.680000e-126</td>\n",
       "    </tr>\n",
       "    <tr>\n",
       "      <th>5</th>\n",
       "      <td>sp|P00630|PA2_APIME</td>\n",
       "      <td>sp|P00630|PA2_APIME</td>\n",
       "      <td>2.680000e-126</td>\n",
       "    </tr>\n",
       "    <tr>\n",
       "      <th>6</th>\n",
       "      <td>sp|Q868G6|TACHY_APIME</td>\n",
       "      <td>sp|Q868G6|TACHY_APIME</td>\n",
       "      <td>0.000000e+00</td>\n",
       "    </tr>\n",
       "    <tr>\n",
       "      <th>7</th>\n",
       "      <td>sp|Q868G6|TACHY_APIME</td>\n",
       "      <td>tr|A0A088ACT0|A0A088ACT0_APIME</td>\n",
       "      <td>0.000000e+00</td>\n",
       "    </tr>\n",
       "    <tr>\n",
       "      <th>8</th>\n",
       "      <td>sp|Q2V0C9|CBS_APIME</td>\n",
       "      <td>sp|Q2V0C9|CBS_APIME</td>\n",
       "      <td>0.000000e+00</td>\n",
       "    </tr>\n",
       "    <tr>\n",
       "      <th>9</th>\n",
       "      <td>sp|Q2V0C9|CBS_APIME</td>\n",
       "      <td>tr|A0A088AVY2|A0A088AVY2_APIME</td>\n",
       "      <td>0.000000e+00</td>\n",
       "    </tr>\n",
       "  </tbody>\n",
       "</table>\n",
       "</div>"
      ],
      "text/plain": [
       "                       0                               1              2\n",
       "0  sp|O18330|MRJP1_APIME           sp|O18330|MRJP1_APIME   0.000000e+00\n",
       "1  sp|O18330|MRJP1_APIME           sp|O77061|MRJP2_APIME   0.000000e+00\n",
       "2    sp|P01501|MEL_APIME          tr|I3RJI9|I3RJI9_APICA   5.140000e-46\n",
       "3    sp|P01501|MEL_APIME             sp|P01501|MEL_APIME   5.140000e-46\n",
       "4    sp|P00630|PA2_APIME          tr|B7UUK1|B7UUK1_APIME  2.680000e-126\n",
       "5    sp|P00630|PA2_APIME             sp|P00630|PA2_APIME  2.680000e-126\n",
       "6  sp|Q868G6|TACHY_APIME           sp|Q868G6|TACHY_APIME   0.000000e+00\n",
       "7  sp|Q868G6|TACHY_APIME  tr|A0A088ACT0|A0A088ACT0_APIME   0.000000e+00\n",
       "8    sp|Q2V0C9|CBS_APIME             sp|Q2V0C9|CBS_APIME   0.000000e+00\n",
       "9    sp|Q2V0C9|CBS_APIME  tr|A0A088AVY2|A0A088AVY2_APIME   0.000000e+00"
      ]
     },
     "execution_count": 4,
     "metadata": {},
     "output_type": "execute_result"
    }
   ],
   "source": [
    "aoa.head(n=10)"
   ]
  },
  {
   "cell_type": "code",
   "execution_count": 33,
   "metadata": {},
   "outputs": [],
   "source": [
    "aoa.columns=['query','subject','evalue']\n",
    "lol.columns=['query','subject','evalue']"
   ]
  },
  {
   "cell_type": "code",
   "execution_count": 34,
   "metadata": {},
   "outputs": [],
   "source": [
    "aoa.columns=['query','subject','evalue']"
   ]
  },
  {
   "cell_type": "code",
   "execution_count": 35,
   "metadata": {},
   "outputs": [],
   "source": [
    "min_aoa = aoa.groupby(['query','subject']).agg({'evalue': 'min'}).reset_index()\n",
    "min_lol = lol.groupby(['query','subject']).agg({'evalue': 'min'}).reset_index()"
   ]
  },
  {
   "cell_type": "code",
   "execution_count": 8,
   "metadata": {},
   "outputs": [
    {
     "data": {
      "text/html": [
       "<div>\n",
       "<style scoped>\n",
       "    .dataframe tbody tr th:only-of-type {\n",
       "        vertical-align: middle;\n",
       "    }\n",
       "\n",
       "    .dataframe tbody tr th {\n",
       "        vertical-align: top;\n",
       "    }\n",
       "\n",
       "    .dataframe thead th {\n",
       "        text-align: right;\n",
       "    }\n",
       "</style>\n",
       "<table border=\"1\" class=\"dataframe\">\n",
       "  <thead>\n",
       "    <tr style=\"text-align: right;\">\n",
       "      <th></th>\n",
       "      <th>query</th>\n",
       "      <th>subject</th>\n",
       "      <th>evalue</th>\n",
       "    </tr>\n",
       "  </thead>\n",
       "  <tbody>\n",
       "    <tr>\n",
       "      <th>0</th>\n",
       "      <td>sp|A2VB89|BURS_APIME</td>\n",
       "      <td>sp|A2VB89|BURS_APIME</td>\n",
       "      <td>9.560000e-113</td>\n",
       "    </tr>\n",
       "    <tr>\n",
       "      <th>1</th>\n",
       "      <td>sp|A2VB90|PBURS_APIME</td>\n",
       "      <td>sp|A2VB90|PBURS_APIME</td>\n",
       "      <td>1.410000e-105</td>\n",
       "    </tr>\n",
       "    <tr>\n",
       "      <th>2</th>\n",
       "      <td>sp|A8CL69|PBAN_APIME</td>\n",
       "      <td>sp|A8CL69|PBAN_APIME</td>\n",
       "      <td>7.790000e-147</td>\n",
       "    </tr>\n",
       "    <tr>\n",
       "      <th>3</th>\n",
       "      <td>sp|A8CL69|PBAN_APIME</td>\n",
       "      <td>tr|C6YBD1|C6YBD1_APIME</td>\n",
       "      <td>7.790000e-147</td>\n",
       "    </tr>\n",
       "    <tr>\n",
       "      <th>4</th>\n",
       "      <td>sp|A8J4S9|TREA_APIME</td>\n",
       "      <td>sp|A8J4S9|TREA_APIME</td>\n",
       "      <td>0.000000e+00</td>\n",
       "    </tr>\n",
       "  </tbody>\n",
       "</table>\n",
       "</div>"
      ],
      "text/plain": [
       "                   query                 subject         evalue\n",
       "0   sp|A2VB89|BURS_APIME    sp|A2VB89|BURS_APIME  9.560000e-113\n",
       "1  sp|A2VB90|PBURS_APIME   sp|A2VB90|PBURS_APIME  1.410000e-105\n",
       "2   sp|A8CL69|PBAN_APIME    sp|A8CL69|PBAN_APIME  7.790000e-147\n",
       "3   sp|A8CL69|PBAN_APIME  tr|C6YBD1|C6YBD1_APIME  7.790000e-147\n",
       "4   sp|A8J4S9|TREA_APIME    sp|A8J4S9|TREA_APIME   0.000000e+00"
      ]
     },
     "execution_count": 8,
     "metadata": {},
     "output_type": "execute_result"
    }
   ],
   "source": [
    "min_aoa.head()"
   ]
  },
  {
   "cell_type": "code",
   "execution_count": 9,
   "metadata": {},
   "outputs": [
    {
     "data": {
      "text/html": [
       "<div>\n",
       "<style scoped>\n",
       "    .dataframe tbody tr th:only-of-type {\n",
       "        vertical-align: middle;\n",
       "    }\n",
       "\n",
       "    .dataframe tbody tr th {\n",
       "        vertical-align: top;\n",
       "    }\n",
       "\n",
       "    .dataframe thead th {\n",
       "        text-align: right;\n",
       "    }\n",
       "</style>\n",
       "<table border=\"1\" class=\"dataframe\">\n",
       "  <thead>\n",
       "    <tr style=\"text-align: right;\">\n",
       "      <th></th>\n",
       "      <th>query</th>\n",
       "      <th>subject</th>\n",
       "      <th>evalue</th>\n",
       "    </tr>\n",
       "  </thead>\n",
       "  <tbody>\n",
       "    <tr>\n",
       "      <th>0</th>\n",
       "      <td>sp|O18330|MRJP1_APIME</td>\n",
       "      <td>sp|O18330|MRJP1_APIME</td>\n",
       "      <td>0.000000e+00</td>\n",
       "    </tr>\n",
       "    <tr>\n",
       "      <th>1</th>\n",
       "      <td>sp|O18330|MRJP1_APIME</td>\n",
       "      <td>sp|O77061|MRJP2_APIME</td>\n",
       "      <td>0.000000e+00</td>\n",
       "    </tr>\n",
       "    <tr>\n",
       "      <th>2</th>\n",
       "      <td>sp|P01501|MEL_APIME</td>\n",
       "      <td>tr|I3RJI9|I3RJI9_APICA</td>\n",
       "      <td>5.140000e-46</td>\n",
       "    </tr>\n",
       "    <tr>\n",
       "      <th>3</th>\n",
       "      <td>sp|P01501|MEL_APIME</td>\n",
       "      <td>sp|P01501|MEL_APIME</td>\n",
       "      <td>5.140000e-46</td>\n",
       "    </tr>\n",
       "    <tr>\n",
       "      <th>4</th>\n",
       "      <td>sp|P00630|PA2_APIME</td>\n",
       "      <td>tr|B7UUK1|B7UUK1_APIME</td>\n",
       "      <td>2.680000e-126</td>\n",
       "    </tr>\n",
       "  </tbody>\n",
       "</table>\n",
       "</div>"
      ],
      "text/plain": [
       "                   query                 subject         evalue\n",
       "0  sp|O18330|MRJP1_APIME   sp|O18330|MRJP1_APIME   0.000000e+00\n",
       "1  sp|O18330|MRJP1_APIME   sp|O77061|MRJP2_APIME   0.000000e+00\n",
       "2    sp|P01501|MEL_APIME  tr|I3RJI9|I3RJI9_APICA   5.140000e-46\n",
       "3    sp|P01501|MEL_APIME     sp|P01501|MEL_APIME   5.140000e-46\n",
       "4    sp|P00630|PA2_APIME  tr|B7UUK1|B7UUK1_APIME  2.680000e-126"
      ]
     },
     "execution_count": 9,
     "metadata": {},
     "output_type": "execute_result"
    }
   ],
   "source": [
    "aoa.head()"
   ]
  },
  {
   "cell_type": "code",
   "execution_count": 10,
   "metadata": {},
   "outputs": [
    {
     "data": {
      "text/plain": [
       "44423"
      ]
     },
     "execution_count": 10,
     "metadata": {},
     "output_type": "execute_result"
    }
   ],
   "source": [
    "len(lol)"
   ]
  },
  {
   "cell_type": "code",
   "execution_count": 11,
   "metadata": {},
   "outputs": [
    {
     "data": {
      "text/plain": [
       "36722"
      ]
     },
     "execution_count": 11,
     "metadata": {},
     "output_type": "execute_result"
    }
   ],
   "source": [
    "len(aoa)"
   ]
  },
  {
   "cell_type": "code",
   "execution_count": 37,
   "metadata": {},
   "outputs": [
    {
     "name": "stderr",
     "output_type": "stream",
     "text": [
      "C:\\Users\\Aditya\\Anaconda3\\lib\\site-packages\\ipykernel_launcher.py:3: UserWarning: Boolean Series key will be reindexed to match DataFrame index.\n",
      "  This is separate from the ipykernel package so we can avoid doing imports until\n"
     ]
    }
   ],
   "source": [
    "#Remove self hits\n",
    "final_aoa = min_aoa.drop(min_aoa[min_aoa['query']==min_aoa['subject']].index)\n",
    "final_lol = min_lol.drop(min_aoa[min_lol['query']==min_lol['subject']].index)"
   ]
  },
  {
   "cell_type": "code",
   "execution_count": 13,
   "metadata": {},
   "outputs": [
    {
     "data": {
      "text/plain": [
       "15197"
      ]
     },
     "execution_count": 13,
     "metadata": {},
     "output_type": "execute_result"
    }
   ],
   "source": [
    "len(final_aoa)"
   ]
  },
  {
   "cell_type": "code",
   "execution_count": 14,
   "metadata": {},
   "outputs": [
    {
     "data": {
      "text/plain": [
       "24910"
      ]
     },
     "execution_count": 14,
     "metadata": {},
     "output_type": "execute_result"
    }
   ],
   "source": [
    "len(final_lol)"
   ]
  },
  {
   "cell_type": "code",
   "execution_count": 39,
   "metadata": {},
   "outputs": [],
   "source": [
    "final_aoa=final_aoa.reset_index()\n",
    "final_lol=final_lol.reset_index()"
   ]
  },
  {
   "cell_type": "code",
   "execution_count": 40,
   "metadata": {},
   "outputs": [],
   "source": [
    "final_aoa=final_aoa.drop('index',axis=1)\n",
    "final_lol=final_lol.drop('index',axis=1)"
   ]
  },
  {
   "cell_type": "code",
   "execution_count": 19,
   "metadata": {},
   "outputs": [
    {
     "data": {
      "text/html": [
       "<div>\n",
       "<style scoped>\n",
       "    .dataframe tbody tr th:only-of-type {\n",
       "        vertical-align: middle;\n",
       "    }\n",
       "\n",
       "    .dataframe tbody tr th {\n",
       "        vertical-align: top;\n",
       "    }\n",
       "\n",
       "    .dataframe thead th {\n",
       "        text-align: right;\n",
       "    }\n",
       "</style>\n",
       "<table border=\"1\" class=\"dataframe\">\n",
       "  <thead>\n",
       "    <tr style=\"text-align: right;\">\n",
       "      <th></th>\n",
       "      <th>query</th>\n",
       "      <th>subject</th>\n",
       "      <th>evalue</th>\n",
       "    </tr>\n",
       "  </thead>\n",
       "  <tbody>\n",
       "    <tr>\n",
       "      <th>0</th>\n",
       "      <td>sp|A8CL69|PBAN_APIME</td>\n",
       "      <td>tr|C6YBD1|C6YBD1_APIME</td>\n",
       "      <td>7.790000e-147</td>\n",
       "    </tr>\n",
       "    <tr>\n",
       "      <th>1</th>\n",
       "      <td>sp|A8J4S9|TREA_APIME</td>\n",
       "      <td>tr|A0A088AUT8|A0A088AUT8_APIME</td>\n",
       "      <td>0.000000e+00</td>\n",
       "    </tr>\n",
       "    <tr>\n",
       "      <th>2</th>\n",
       "      <td>sp|A9ZSY2|TRET1_APILI</td>\n",
       "      <td>tr|A0A088AUA9|A0A088AUA9_APIME</td>\n",
       "      <td>0.000000e+00</td>\n",
       "    </tr>\n",
       "    <tr>\n",
       "      <th>3</th>\n",
       "      <td>sp|B2D0J4|VDPP4_APIME</td>\n",
       "      <td>tr|A0A088A1D0|A0A088A1D0_APIME</td>\n",
       "      <td>0.000000e+00</td>\n",
       "    </tr>\n",
       "    <tr>\n",
       "      <th>4</th>\n",
       "      <td>sp|B2D0J5|EST6_APIME</td>\n",
       "      <td>tr|A0A088AQ41|A0A088AQ41_APIME</td>\n",
       "      <td>0.000000e+00</td>\n",
       "    </tr>\n",
       "  </tbody>\n",
       "</table>\n",
       "</div>"
      ],
      "text/plain": [
       "                   query                         subject         evalue\n",
       "0   sp|A8CL69|PBAN_APIME          tr|C6YBD1|C6YBD1_APIME  7.790000e-147\n",
       "1   sp|A8J4S9|TREA_APIME  tr|A0A088AUT8|A0A088AUT8_APIME   0.000000e+00\n",
       "2  sp|A9ZSY2|TRET1_APILI  tr|A0A088AUA9|A0A088AUA9_APIME   0.000000e+00\n",
       "3  sp|B2D0J4|VDPP4_APIME  tr|A0A088A1D0|A0A088A1D0_APIME   0.000000e+00\n",
       "4   sp|B2D0J5|EST6_APIME  tr|A0A088AQ41|A0A088AQ41_APIME   0.000000e+00"
      ]
     },
     "execution_count": 19,
     "metadata": {},
     "output_type": "execute_result"
    }
   ],
   "source": [
    "final_aoa.head()"
   ]
  },
  {
   "cell_type": "code",
   "execution_count": 20,
   "metadata": {},
   "outputs": [
    {
     "data": {
      "text/html": [
       "<div>\n",
       "<style scoped>\n",
       "    .dataframe tbody tr th:only-of-type {\n",
       "        vertical-align: middle;\n",
       "    }\n",
       "\n",
       "    .dataframe tbody tr th {\n",
       "        vertical-align: top;\n",
       "    }\n",
       "\n",
       "    .dataframe thead th {\n",
       "        text-align: right;\n",
       "    }\n",
       "</style>\n",
       "<table border=\"1\" class=\"dataframe\">\n",
       "  <thead>\n",
       "    <tr style=\"text-align: right;\">\n",
       "      <th></th>\n",
       "      <th>query</th>\n",
       "      <th>subject</th>\n",
       "      <th>evalue</th>\n",
       "    </tr>\n",
       "  </thead>\n",
       "  <tbody>\n",
       "    <tr>\n",
       "      <th>0</th>\n",
       "      <td>sp|H3BCW1|ADPRS_LATCH</td>\n",
       "      <td>tr|H3BCW0|H3BCW0_LATCH</td>\n",
       "      <td>0.000000e+00</td>\n",
       "    </tr>\n",
       "    <tr>\n",
       "      <th>1</th>\n",
       "      <td>sp|O03166|NU2M_LATCH</td>\n",
       "      <td>tr|A1IHG8|A1IHG8_LATCH</td>\n",
       "      <td>0.000000e+00</td>\n",
       "    </tr>\n",
       "    <tr>\n",
       "      <th>2</th>\n",
       "      <td>sp|O03167|COX1_LATCH</td>\n",
       "      <td>tr|A1IHG9|A1IHG9_LATCH</td>\n",
       "      <td>0.000000e+00</td>\n",
       "    </tr>\n",
       "    <tr>\n",
       "      <th>3</th>\n",
       "      <td>sp|O03168|ATP8_LATCH</td>\n",
       "      <td>tr|A1IHH1|A1IHH1_LATCH</td>\n",
       "      <td>1.150000e-33</td>\n",
       "    </tr>\n",
       "    <tr>\n",
       "      <th>4</th>\n",
       "      <td>sp|O03169|ATP6_LATCH</td>\n",
       "      <td>tr|A1IHH2|A1IHH2_LATCH</td>\n",
       "      <td>4.040000e-147</td>\n",
       "    </tr>\n",
       "  </tbody>\n",
       "</table>\n",
       "</div>"
      ],
      "text/plain": [
       "                   query                 subject         evalue\n",
       "0  sp|H3BCW1|ADPRS_LATCH  tr|H3BCW0|H3BCW0_LATCH   0.000000e+00\n",
       "1   sp|O03166|NU2M_LATCH  tr|A1IHG8|A1IHG8_LATCH   0.000000e+00\n",
       "2   sp|O03167|COX1_LATCH  tr|A1IHG9|A1IHG9_LATCH   0.000000e+00\n",
       "3   sp|O03168|ATP8_LATCH  tr|A1IHH1|A1IHH1_LATCH   1.150000e-33\n",
       "4   sp|O03169|ATP6_LATCH  tr|A1IHH2|A1IHH2_LATCH  4.040000e-147"
      ]
     },
     "execution_count": 20,
     "metadata": {},
     "output_type": "execute_result"
    }
   ],
   "source": [
    "final_lol.head()"
   ]
  },
  {
   "cell_type": "code",
   "execution_count": 21,
   "metadata": {},
   "outputs": [],
   "source": [
    "final_aoa.to_csv('aoa_inparalogs.tsv',sep='\\t',index=None)\n",
    "final_lol.to_csv('lol_inparalogs.tsv',sep='\\t',index=None)"
   ]
  },
  {
   "cell_type": "markdown",
   "metadata": {},
   "source": [
    "# Calculating true number of paralogs"
   ]
  },
  {
   "cell_type": "code",
   "execution_count": null,
   "metadata": {},
   "outputs": [],
   "source": [
    "#CLEAR OUT A->B and B->A relations\n",
    "clear_lol=final_lol.loc[0]\n",
    "for rec in range(len(final_lol)):\n",
    "    q=final_lol['query'][rec]    \n",
    "    results = final_lol[final_lol['subject'] == q]    \n",
    "    if final_lol['subject'][rec] in str(results['query']):\n",
    "        clear_lol.append(final_lol.loc[rec])\n",
    "        count=count+1"
   ]
  },
  {
   "cell_type": "code",
   "execution_count": null,
   "metadata": {},
   "outputs": [],
   "source": [
    "len(clear_lol)"
   ]
  },
  {
   "cell_type": "code",
   "execution_count": 98,
   "metadata": {},
   "outputs": [
    {
     "data": {
      "text/plain": [
       "17400"
      ]
     },
     "execution_count": 98,
     "metadata": {},
     "output_type": "execute_result"
    }
   ],
   "source": [
    "count"
   ]
  },
  {
   "cell_type": "code",
   "execution_count": 100,
   "metadata": {},
   "outputs": [
    {
     "data": {
      "text/plain": [
       "7510"
      ]
     },
     "execution_count": 100,
     "metadata": {},
     "output_type": "execute_result"
    }
   ],
   "source": [
    "#NUMBER OF PARALOGS\n",
    "len(final_lol)-count"
   ]
  },
  {
   "cell_type": "code",
   "execution_count": null,
   "metadata": {},
   "outputs": [],
   "source": [
    "#CLEAR OUT A->B and B->A relations\n",
    "coun=0\n",
    "clear_aoa=final_aoa.loc[0]\n",
    "for rec in range(len(final_aoa)):\n",
    "    q=final_aoa['query'][rec]    \n",
    "    results = final_aoa[final_aoa['subject'] == q]    \n",
    "    if final_aoa['subject'][rec] in str(results['query']):\n",
    "        clear_aoa.append(final_aoa.loc[rec])\n",
    "        coun=coun+1\n",
    "coun"
   ]
  },
  {
   "cell_type": "code",
   "execution_count": null,
   "metadata": {},
   "outputs": [],
   "source": [
    "len(clear_aoa)"
   ]
  },
  {
   "cell_type": "code",
   "execution_count": 101,
   "metadata": {},
   "outputs": [
    {
     "data": {
      "text/plain": [
       "8571"
      ]
     },
     "execution_count": 101,
     "metadata": {},
     "output_type": "execute_result"
    }
   ],
   "source": [
    "#NUMBER OF PARALOGS\n",
    "len(final_aoa)-coun"
   ]
  },
  {
   "cell_type": "markdown",
   "metadata": {},
   "source": [
    "# CO-ORTHOLOGS"
   ]
  },
  {
   "cell_type": "code",
   "execution_count": 42,
   "metadata": {},
   "outputs": [],
   "source": [
    "#Lets see some co-orthologous sequence\n",
    "#Read the orthologous file\n",
    "common_bbh = pd.read_csv('common_BBH.tsv',sep='\\t')"
   ]
  },
  {
   "cell_type": "code",
   "execution_count": 43,
   "metadata": {},
   "outputs": [
    {
     "data": {
      "text/html": [
       "<div>\n",
       "<style scoped>\n",
       "    .dataframe tbody tr th:only-of-type {\n",
       "        vertical-align: middle;\n",
       "    }\n",
       "\n",
       "    .dataframe tbody tr th {\n",
       "        vertical-align: top;\n",
       "    }\n",
       "\n",
       "    .dataframe thead th {\n",
       "        text-align: right;\n",
       "    }\n",
       "</style>\n",
       "<table border=\"1\" class=\"dataframe\">\n",
       "  <thead>\n",
       "    <tr style=\"text-align: right;\">\n",
       "      <th></th>\n",
       "      <th>query</th>\n",
       "      <th>subject</th>\n",
       "      <th>evalue</th>\n",
       "    </tr>\n",
       "  </thead>\n",
       "  <tbody>\n",
       "    <tr>\n",
       "      <th>0</th>\n",
       "      <td>sp|Q2V0C9|CBS_APIME</td>\n",
       "      <td>tr|M3XKQ6|M3XKQ6_LATCH</td>\n",
       "      <td>2.980000e-166</td>\n",
       "    </tr>\n",
       "    <tr>\n",
       "      <th>1</th>\n",
       "      <td>tr|A0A088AP68|A0A088AP68_APIME</td>\n",
       "      <td>tr|H3AY86|H3AY86_LATCH</td>\n",
       "      <td>0.000000e+00</td>\n",
       "    </tr>\n",
       "    <tr>\n",
       "      <th>2</th>\n",
       "      <td>sp|P0CY46|EGFR_APIME</td>\n",
       "      <td>tr|M3XK26|M3XK26_LATCH</td>\n",
       "      <td>1.810000e-153</td>\n",
       "    </tr>\n",
       "    <tr>\n",
       "      <th>3</th>\n",
       "      <td>tr|A0A087ZN12|A0A087ZN12_APIME</td>\n",
       "      <td>tr|H3AC93|H3AC93_LATCH</td>\n",
       "      <td>5.560000e-117</td>\n",
       "    </tr>\n",
       "    <tr>\n",
       "      <th>4</th>\n",
       "      <td>tr|A0A088AD26|A0A088AD26_APIME</td>\n",
       "      <td>tr|H3AMH7|H3AMH7_LATCH</td>\n",
       "      <td>7.460000e-37</td>\n",
       "    </tr>\n",
       "  </tbody>\n",
       "</table>\n",
       "</div>"
      ],
      "text/plain": [
       "                            query                 subject         evalue\n",
       "0             sp|Q2V0C9|CBS_APIME  tr|M3XKQ6|M3XKQ6_LATCH  2.980000e-166\n",
       "1  tr|A0A088AP68|A0A088AP68_APIME  tr|H3AY86|H3AY86_LATCH   0.000000e+00\n",
       "2            sp|P0CY46|EGFR_APIME  tr|M3XK26|M3XK26_LATCH  1.810000e-153\n",
       "3  tr|A0A087ZN12|A0A087ZN12_APIME  tr|H3AC93|H3AC93_LATCH  5.560000e-117\n",
       "4  tr|A0A088AD26|A0A088AD26_APIME  tr|H3AMH7|H3AMH7_LATCH   7.460000e-37"
      ]
     },
     "execution_count": 43,
     "metadata": {},
     "output_type": "execute_result"
    }
   ],
   "source": [
    "common_bbh.head()"
   ]
  },
  {
   "cell_type": "code",
   "execution_count": 44,
   "metadata": {},
   "outputs": [],
   "source": [
    "common_bbh.columns=['query','Ortho_subject','Ortho_evalue']"
   ]
  },
  {
   "cell_type": "code",
   "execution_count": 45,
   "metadata": {},
   "outputs": [],
   "source": [
    "#Finding some common nodes in aoa and the common hits between aol and loa\n",
    "cortho_df = pd.merge(common_bbh, final_aoa,on='query').sort_values(by='Ortho_evalue')"
   ]
  },
  {
   "cell_type": "code",
   "execution_count": 52,
   "metadata": {},
   "outputs": [
    {
     "data": {
      "text/plain": [
       "2674"
      ]
     },
     "execution_count": 52,
     "metadata": {},
     "output_type": "execute_result"
    }
   ],
   "source": [
    "len(cortho_df)"
   ]
  },
  {
   "cell_type": "code",
   "execution_count": 54,
   "metadata": {},
   "outputs": [
    {
     "data": {
      "text/html": [
       "<div>\n",
       "<style scoped>\n",
       "    .dataframe tbody tr th:only-of-type {\n",
       "        vertical-align: middle;\n",
       "    }\n",
       "\n",
       "    .dataframe tbody tr th {\n",
       "        vertical-align: top;\n",
       "    }\n",
       "\n",
       "    .dataframe thead th {\n",
       "        text-align: right;\n",
       "    }\n",
       "</style>\n",
       "<table border=\"1\" class=\"dataframe\">\n",
       "  <thead>\n",
       "    <tr style=\"text-align: right;\">\n",
       "      <th></th>\n",
       "      <th>query</th>\n",
       "      <th>Ortho_subject</th>\n",
       "      <th>Ortho_evalue</th>\n",
       "      <th>subject</th>\n",
       "      <th>evalue</th>\n",
       "    </tr>\n",
       "  </thead>\n",
       "  <tbody>\n",
       "    <tr>\n",
       "      <th>2551</th>\n",
       "      <td>tr|A0A087ZUC3|A0A087ZUC3_APIME</td>\n",
       "      <td>tr|H2ZX08|H2ZX08_LATCH</td>\n",
       "      <td>1.570000e-180</td>\n",
       "      <td>tr|A0A088AC42|A0A088AC42_APIME</td>\n",
       "      <td>1.170000e-21</td>\n",
       "    </tr>\n",
       "    <tr>\n",
       "      <th>1997</th>\n",
       "      <td>tr|A0A088ASE3|A0A088ASE3_APIME</td>\n",
       "      <td>tr|H2ZWS8|H2ZWS8_LATCH</td>\n",
       "      <td>2.860000e-180</td>\n",
       "      <td>tr|A0A088AID6|A0A088AID6_APIME</td>\n",
       "      <td>1.220000e-30</td>\n",
       "    </tr>\n",
       "    <tr>\n",
       "      <th>311</th>\n",
       "      <td>tr|A0A0B4J2M4|A0A0B4J2M4_APIME</td>\n",
       "      <td>tr|H3AUP9|H3AUP9_LATCH</td>\n",
       "      <td>2.970000e-180</td>\n",
       "      <td>tr|V5RI72|V5RI72_SPIAP</td>\n",
       "      <td>1.720000e-43</td>\n",
       "    </tr>\n",
       "    <tr>\n",
       "      <th>3189</th>\n",
       "      <td>tr|A0A087ZZI8|A0A087ZZI8_APIME</td>\n",
       "      <td>tr|H3BEN3|H3BEN3_LATCH</td>\n",
       "      <td>9.040000e-180</td>\n",
       "      <td>tr|A0A088AMZ8|A0A088AMZ8_APIME</td>\n",
       "      <td>9.380000e-54</td>\n",
       "    </tr>\n",
       "    <tr>\n",
       "      <th>2915</th>\n",
       "      <td>tr|A0A088ASR1|A0A088ASR1_APIME</td>\n",
       "      <td>tr|H3B9P4|H3B9P4_LATCH</td>\n",
       "      <td>1.550000e-179</td>\n",
       "      <td>tr|A0A087ZW64|A0A087ZW64_APIME</td>\n",
       "      <td>2.020000e-132</td>\n",
       "    </tr>\n",
       "  </tbody>\n",
       "</table>\n",
       "</div>"
      ],
      "text/plain": [
       "                               query           Ortho_subject   Ortho_evalue  \\\n",
       "2551  tr|A0A087ZUC3|A0A087ZUC3_APIME  tr|H2ZX08|H2ZX08_LATCH  1.570000e-180   \n",
       "1997  tr|A0A088ASE3|A0A088ASE3_APIME  tr|H2ZWS8|H2ZWS8_LATCH  2.860000e-180   \n",
       "311   tr|A0A0B4J2M4|A0A0B4J2M4_APIME  tr|H3AUP9|H3AUP9_LATCH  2.970000e-180   \n",
       "3189  tr|A0A087ZZI8|A0A087ZZI8_APIME  tr|H3BEN3|H3BEN3_LATCH  9.040000e-180   \n",
       "2915  tr|A0A088ASR1|A0A088ASR1_APIME  tr|H3B9P4|H3B9P4_LATCH  1.550000e-179   \n",
       "\n",
       "                             subject         evalue  \n",
       "2551  tr|A0A088AC42|A0A088AC42_APIME   1.170000e-21  \n",
       "1997  tr|A0A088AID6|A0A088AID6_APIME   1.220000e-30  \n",
       "311           tr|V5RI72|V5RI72_SPIAP   1.720000e-43  \n",
       "3189  tr|A0A088AMZ8|A0A088AMZ8_APIME   9.380000e-54  \n",
       "2915  tr|A0A087ZW64|A0A087ZW64_APIME  2.020000e-132  "
      ]
     },
     "execution_count": 54,
     "metadata": {},
     "output_type": "execute_result"
    }
   ],
   "source": [
    "cortho_df.head()"
   ]
  },
  {
   "cell_type": "code",
   "execution_count": null,
   "metadata": {},
   "outputs": [],
   "source": [
    "final_lol=clear_lol\n",
    "final_aoa=clear_aoa"
   ]
  },
  {
   "cell_type": "code",
   "execution_count": 64,
   "metadata": {},
   "outputs": [],
   "source": [
    "final_lol.columns=['query','Ortho_subject','evalue']"
   ]
  },
  {
   "cell_type": "code",
   "execution_count": 65,
   "metadata": {},
   "outputs": [
    {
     "data": {
      "text/html": [
       "<div>\n",
       "<style scoped>\n",
       "    .dataframe tbody tr th:only-of-type {\n",
       "        vertical-align: middle;\n",
       "    }\n",
       "\n",
       "    .dataframe tbody tr th {\n",
       "        vertical-align: top;\n",
       "    }\n",
       "\n",
       "    .dataframe thead th {\n",
       "        text-align: right;\n",
       "    }\n",
       "</style>\n",
       "<table border=\"1\" class=\"dataframe\">\n",
       "  <thead>\n",
       "    <tr style=\"text-align: right;\">\n",
       "      <th></th>\n",
       "      <th>query</th>\n",
       "      <th>Ortho_subject</th>\n",
       "      <th>evalue</th>\n",
       "    </tr>\n",
       "  </thead>\n",
       "  <tbody>\n",
       "    <tr>\n",
       "      <th>0</th>\n",
       "      <td>sp|H3BCW1|ADPRS_LATCH</td>\n",
       "      <td>tr|H3BCW0|H3BCW0_LATCH</td>\n",
       "      <td>0.000000e+00</td>\n",
       "    </tr>\n",
       "    <tr>\n",
       "      <th>1</th>\n",
       "      <td>sp|O03166|NU2M_LATCH</td>\n",
       "      <td>tr|A1IHG8|A1IHG8_LATCH</td>\n",
       "      <td>0.000000e+00</td>\n",
       "    </tr>\n",
       "    <tr>\n",
       "      <th>2</th>\n",
       "      <td>sp|O03167|COX1_LATCH</td>\n",
       "      <td>tr|A1IHG9|A1IHG9_LATCH</td>\n",
       "      <td>0.000000e+00</td>\n",
       "    </tr>\n",
       "    <tr>\n",
       "      <th>3</th>\n",
       "      <td>sp|O03168|ATP8_LATCH</td>\n",
       "      <td>tr|A1IHH1|A1IHH1_LATCH</td>\n",
       "      <td>1.150000e-33</td>\n",
       "    </tr>\n",
       "    <tr>\n",
       "      <th>4</th>\n",
       "      <td>sp|O03169|ATP6_LATCH</td>\n",
       "      <td>tr|A1IHH2|A1IHH2_LATCH</td>\n",
       "      <td>4.040000e-147</td>\n",
       "    </tr>\n",
       "  </tbody>\n",
       "</table>\n",
       "</div>"
      ],
      "text/plain": [
       "                   query           Ortho_subject         evalue\n",
       "0  sp|H3BCW1|ADPRS_LATCH  tr|H3BCW0|H3BCW0_LATCH   0.000000e+00\n",
       "1   sp|O03166|NU2M_LATCH  tr|A1IHG8|A1IHG8_LATCH   0.000000e+00\n",
       "2   sp|O03167|COX1_LATCH  tr|A1IHG9|A1IHG9_LATCH   0.000000e+00\n",
       "3   sp|O03168|ATP8_LATCH  tr|A1IHH1|A1IHH1_LATCH   1.150000e-33\n",
       "4   sp|O03169|ATP6_LATCH  tr|A1IHH2|A1IHH2_LATCH  4.040000e-147"
      ]
     },
     "execution_count": 65,
     "metadata": {},
     "output_type": "execute_result"
    }
   ],
   "source": [
    "final_lol.head()"
   ]
  },
  {
   "cell_type": "code",
   "execution_count": 63,
   "metadata": {},
   "outputs": [
    {
     "data": {
      "text/html": [
       "<div>\n",
       "<style scoped>\n",
       "    .dataframe tbody tr th:only-of-type {\n",
       "        vertical-align: middle;\n",
       "    }\n",
       "\n",
       "    .dataframe tbody tr th {\n",
       "        vertical-align: top;\n",
       "    }\n",
       "\n",
       "    .dataframe thead th {\n",
       "        text-align: right;\n",
       "    }\n",
       "</style>\n",
       "<table border=\"1\" class=\"dataframe\">\n",
       "  <thead>\n",
       "    <tr style=\"text-align: right;\">\n",
       "      <th></th>\n",
       "      <th>query</th>\n",
       "      <th>Ortho_subject</th>\n",
       "      <th>Ortho_evalue</th>\n",
       "    </tr>\n",
       "  </thead>\n",
       "  <tbody>\n",
       "    <tr>\n",
       "      <th>0</th>\n",
       "      <td>sp|Q2V0C9|CBS_APIME</td>\n",
       "      <td>tr|M3XKQ6|M3XKQ6_LATCH</td>\n",
       "      <td>2.980000e-166</td>\n",
       "    </tr>\n",
       "    <tr>\n",
       "      <th>1</th>\n",
       "      <td>tr|A0A088AP68|A0A088AP68_APIME</td>\n",
       "      <td>tr|H3AY86|H3AY86_LATCH</td>\n",
       "      <td>0.000000e+00</td>\n",
       "    </tr>\n",
       "    <tr>\n",
       "      <th>2</th>\n",
       "      <td>sp|P0CY46|EGFR_APIME</td>\n",
       "      <td>tr|M3XK26|M3XK26_LATCH</td>\n",
       "      <td>1.810000e-153</td>\n",
       "    </tr>\n",
       "    <tr>\n",
       "      <th>3</th>\n",
       "      <td>tr|A0A087ZN12|A0A087ZN12_APIME</td>\n",
       "      <td>tr|H3AC93|H3AC93_LATCH</td>\n",
       "      <td>5.560000e-117</td>\n",
       "    </tr>\n",
       "    <tr>\n",
       "      <th>4</th>\n",
       "      <td>tr|A0A088AD26|A0A088AD26_APIME</td>\n",
       "      <td>tr|H3AMH7|H3AMH7_LATCH</td>\n",
       "      <td>7.460000e-37</td>\n",
       "    </tr>\n",
       "  </tbody>\n",
       "</table>\n",
       "</div>"
      ],
      "text/plain": [
       "                            query           Ortho_subject   Ortho_evalue\n",
       "0             sp|Q2V0C9|CBS_APIME  tr|M3XKQ6|M3XKQ6_LATCH  2.980000e-166\n",
       "1  tr|A0A088AP68|A0A088AP68_APIME  tr|H3AY86|H3AY86_LATCH   0.000000e+00\n",
       "2            sp|P0CY46|EGFR_APIME  tr|M3XK26|M3XK26_LATCH  1.810000e-153\n",
       "3  tr|A0A087ZN12|A0A087ZN12_APIME  tr|H3AC93|H3AC93_LATCH  5.560000e-117\n",
       "4  tr|A0A088AD26|A0A088AD26_APIME  tr|H3AMH7|H3AMH7_LATCH   7.460000e-37"
      ]
     },
     "execution_count": 63,
     "metadata": {},
     "output_type": "execute_result"
    }
   ],
   "source": [
    "common_bbh.head()"
   ]
  },
  {
   "cell_type": "code",
   "execution_count": 67,
   "metadata": {},
   "outputs": [],
   "source": [
    "#Finding true number of orthologs by extracting the inparalogs of lol and aol\n",
    "lati_cortho_df = pd.merge(common_bbh, final_lol,on='Ortho_subject').sort_values(by='Ortho_evalue')"
   ]
  },
  {
   "cell_type": "code",
   "execution_count": 69,
   "metadata": {},
   "outputs": [
    {
     "data": {
      "text/plain": [
       "6283"
      ]
     },
     "execution_count": 69,
     "metadata": {},
     "output_type": "execute_result"
    }
   ],
   "source": [
    "len(lati_cortho_df)"
   ]
  },
  {
   "cell_type": "code",
   "execution_count": 46,
   "metadata": {},
   "outputs": [],
   "source": [
    "#Finding co-orthologs that have very low evalue for both orthology and paralogy\n",
    "cortho_df = cortho_df[cortho_df['Ortho_evalue']!=0]"
   ]
  },
  {
   "cell_type": "code",
   "execution_count": 47,
   "metadata": {},
   "outputs": [
    {
     "data": {
      "text/html": [
       "<div>\n",
       "<style scoped>\n",
       "    .dataframe tbody tr th:only-of-type {\n",
       "        vertical-align: middle;\n",
       "    }\n",
       "\n",
       "    .dataframe tbody tr th {\n",
       "        vertical-align: top;\n",
       "    }\n",
       "\n",
       "    .dataframe thead th {\n",
       "        text-align: right;\n",
       "    }\n",
       "</style>\n",
       "<table border=\"1\" class=\"dataframe\">\n",
       "  <thead>\n",
       "    <tr style=\"text-align: right;\">\n",
       "      <th></th>\n",
       "      <th>query</th>\n",
       "      <th>Ortho_subject</th>\n",
       "      <th>Ortho_evalue</th>\n",
       "      <th>subject</th>\n",
       "      <th>evalue</th>\n",
       "    </tr>\n",
       "  </thead>\n",
       "  <tbody>\n",
       "    <tr>\n",
       "      <th>2551</th>\n",
       "      <td>tr|A0A087ZUC3|A0A087ZUC3_APIME</td>\n",
       "      <td>tr|H2ZX08|H2ZX08_LATCH</td>\n",
       "      <td>1.570000e-180</td>\n",
       "      <td>tr|A0A088AC42|A0A088AC42_APIME</td>\n",
       "      <td>1.170000e-21</td>\n",
       "    </tr>\n",
       "    <tr>\n",
       "      <th>1997</th>\n",
       "      <td>tr|A0A088ASE3|A0A088ASE3_APIME</td>\n",
       "      <td>tr|H2ZWS8|H2ZWS8_LATCH</td>\n",
       "      <td>2.860000e-180</td>\n",
       "      <td>tr|A0A088AID6|A0A088AID6_APIME</td>\n",
       "      <td>1.220000e-30</td>\n",
       "    </tr>\n",
       "    <tr>\n",
       "      <th>311</th>\n",
       "      <td>tr|A0A0B4J2M4|A0A0B4J2M4_APIME</td>\n",
       "      <td>tr|H3AUP9|H3AUP9_LATCH</td>\n",
       "      <td>2.970000e-180</td>\n",
       "      <td>tr|V5RI72|V5RI72_SPIAP</td>\n",
       "      <td>1.720000e-43</td>\n",
       "    </tr>\n",
       "    <tr>\n",
       "      <th>3189</th>\n",
       "      <td>tr|A0A087ZZI8|A0A087ZZI8_APIME</td>\n",
       "      <td>tr|H3BEN3|H3BEN3_LATCH</td>\n",
       "      <td>9.040000e-180</td>\n",
       "      <td>tr|A0A088AMZ8|A0A088AMZ8_APIME</td>\n",
       "      <td>9.380000e-54</td>\n",
       "    </tr>\n",
       "    <tr>\n",
       "      <th>2915</th>\n",
       "      <td>tr|A0A088ASR1|A0A088ASR1_APIME</td>\n",
       "      <td>tr|H3B9P4|H3B9P4_LATCH</td>\n",
       "      <td>1.550000e-179</td>\n",
       "      <td>tr|A0A087ZW64|A0A087ZW64_APIME</td>\n",
       "      <td>2.020000e-132</td>\n",
       "    </tr>\n",
       "  </tbody>\n",
       "</table>\n",
       "</div>"
      ],
      "text/plain": [
       "                               query           Ortho_subject   Ortho_evalue  \\\n",
       "2551  tr|A0A087ZUC3|A0A087ZUC3_APIME  tr|H2ZX08|H2ZX08_LATCH  1.570000e-180   \n",
       "1997  tr|A0A088ASE3|A0A088ASE3_APIME  tr|H2ZWS8|H2ZWS8_LATCH  2.860000e-180   \n",
       "311   tr|A0A0B4J2M4|A0A0B4J2M4_APIME  tr|H3AUP9|H3AUP9_LATCH  2.970000e-180   \n",
       "3189  tr|A0A087ZZI8|A0A087ZZI8_APIME  tr|H3BEN3|H3BEN3_LATCH  9.040000e-180   \n",
       "2915  tr|A0A088ASR1|A0A088ASR1_APIME  tr|H3B9P4|H3B9P4_LATCH  1.550000e-179   \n",
       "\n",
       "                             subject         evalue  \n",
       "2551  tr|A0A088AC42|A0A088AC42_APIME   1.170000e-21  \n",
       "1997  tr|A0A088AID6|A0A088AID6_APIME   1.220000e-30  \n",
       "311           tr|V5RI72|V5RI72_SPIAP   1.720000e-43  \n",
       "3189  tr|A0A088AMZ8|A0A088AMZ8_APIME   9.380000e-54  \n",
       "2915  tr|A0A087ZW64|A0A087ZW64_APIME  2.020000e-132  "
      ]
     },
     "execution_count": 47,
     "metadata": {},
     "output_type": "execute_result"
    }
   ],
   "source": [
    "cortho_df.head()"
   ]
  },
  {
   "cell_type": "code",
   "execution_count": 42,
   "metadata": {},
   "outputs": [],
   "source": [
    "cortho_df=cortho_df.sort_values(by=['evalue'])"
   ]
  },
  {
   "cell_type": "code",
   "execution_count": 43,
   "metadata": {},
   "outputs": [
    {
     "data": {
      "text/html": [
       "<div>\n",
       "<style scoped>\n",
       "    .dataframe tbody tr th:only-of-type {\n",
       "        vertical-align: middle;\n",
       "    }\n",
       "\n",
       "    .dataframe tbody tr th {\n",
       "        vertical-align: top;\n",
       "    }\n",
       "\n",
       "    .dataframe thead th {\n",
       "        text-align: right;\n",
       "    }\n",
       "</style>\n",
       "<table border=\"1\" class=\"dataframe\">\n",
       "  <thead>\n",
       "    <tr style=\"text-align: right;\">\n",
       "      <th></th>\n",
       "      <th>query</th>\n",
       "      <th>Ortho_subject</th>\n",
       "      <th>Ortho_evalue</th>\n",
       "      <th>subject</th>\n",
       "      <th>evalue</th>\n",
       "    </tr>\n",
       "  </thead>\n",
       "  <tbody>\n",
       "    <tr>\n",
       "      <th>91</th>\n",
       "      <td>tr|A0A088AAH6|A0A088AAH6_APIME</td>\n",
       "      <td>tr|H3AY93|H3AY93_LATCH</td>\n",
       "      <td>2.730000e-44</td>\n",
       "      <td>tr|A0A088AAH3|A0A088AAH3_APIME</td>\n",
       "      <td>0.0</td>\n",
       "    </tr>\n",
       "    <tr>\n",
       "      <th>3383</th>\n",
       "      <td>tr|A0A088A5L6|A0A088A5L6_APIME</td>\n",
       "      <td>tr|H3AG34|H3AG34_LATCH</td>\n",
       "      <td>3.900000e-73</td>\n",
       "      <td>tr|A0A087ZYK6|A0A087ZYK6_APIME</td>\n",
       "      <td>0.0</td>\n",
       "    </tr>\n",
       "    <tr>\n",
       "      <th>3542</th>\n",
       "      <td>tr|A0A087ZYF3|A0A087ZYF3_APIME</td>\n",
       "      <td>tr|H3A4W8|H3A4W8_LATCH</td>\n",
       "      <td>2.810000e-26</td>\n",
       "      <td>tr|A0A088A5S7|A0A088A5S7_APIME</td>\n",
       "      <td>0.0</td>\n",
       "    </tr>\n",
       "    <tr>\n",
       "      <th>9</th>\n",
       "      <td>tr|A0A6C0W2J3|A0A6C0W2J3_APIME</td>\n",
       "      <td>sp|O03174|NU5M_LATCH</td>\n",
       "      <td>6.170000e-69</td>\n",
       "      <td>tr|A0A1X9WE25|A0A1X9WE25_APIME</td>\n",
       "      <td>0.0</td>\n",
       "    </tr>\n",
       "    <tr>\n",
       "      <th>1614</th>\n",
       "      <td>tr|A0A088AS96|A0A088AS96_APIME</td>\n",
       "      <td>tr|H3B1I9|H3B1I9_LATCH</td>\n",
       "      <td>1.210000e-40</td>\n",
       "      <td>tr|A0A088AS51|A0A088AS51_APIME</td>\n",
       "      <td>0.0</td>\n",
       "    </tr>\n",
       "  </tbody>\n",
       "</table>\n",
       "</div>"
      ],
      "text/plain": [
       "                               query           Ortho_subject  Ortho_evalue  \\\n",
       "91    tr|A0A088AAH6|A0A088AAH6_APIME  tr|H3AY93|H3AY93_LATCH  2.730000e-44   \n",
       "3383  tr|A0A088A5L6|A0A088A5L6_APIME  tr|H3AG34|H3AG34_LATCH  3.900000e-73   \n",
       "3542  tr|A0A087ZYF3|A0A087ZYF3_APIME  tr|H3A4W8|H3A4W8_LATCH  2.810000e-26   \n",
       "9     tr|A0A6C0W2J3|A0A6C0W2J3_APIME    sp|O03174|NU5M_LATCH  6.170000e-69   \n",
       "1614  tr|A0A088AS96|A0A088AS96_APIME  tr|H3B1I9|H3B1I9_LATCH  1.210000e-40   \n",
       "\n",
       "                             subject  evalue  \n",
       "91    tr|A0A088AAH3|A0A088AAH3_APIME     0.0  \n",
       "3383  tr|A0A087ZYK6|A0A087ZYK6_APIME     0.0  \n",
       "3542  tr|A0A088A5S7|A0A088A5S7_APIME     0.0  \n",
       "9     tr|A0A1X9WE25|A0A1X9WE25_APIME     0.0  \n",
       "1614  tr|A0A088AS51|A0A088AS51_APIME     0.0  "
      ]
     },
     "execution_count": 43,
     "metadata": {},
     "output_type": "execute_result"
    }
   ],
   "source": [
    "cortho_df.head()"
   ]
  },
  {
   "cell_type": "markdown",
   "metadata": {},
   "source": [
    "CHOOSING RANDOM PROTEIN IN THIS LIST FOR FURTHER ANALYSIS"
   ]
  },
  {
   "cell_type": "code",
   "execution_count": 47,
   "metadata": {},
   "outputs": [
    {
     "data": {
      "text/html": [
       "<div>\n",
       "<style scoped>\n",
       "    .dataframe tbody tr th:only-of-type {\n",
       "        vertical-align: middle;\n",
       "    }\n",
       "\n",
       "    .dataframe tbody tr th {\n",
       "        vertical-align: top;\n",
       "    }\n",
       "\n",
       "    .dataframe thead th {\n",
       "        text-align: right;\n",
       "    }\n",
       "</style>\n",
       "<table border=\"1\" class=\"dataframe\">\n",
       "  <thead>\n",
       "    <tr style=\"text-align: right;\">\n",
       "      <th></th>\n",
       "      <th>query</th>\n",
       "      <th>Ortho_subject</th>\n",
       "      <th>Ortho_evalue</th>\n",
       "      <th>subject</th>\n",
       "      <th>evalue</th>\n",
       "    </tr>\n",
       "  </thead>\n",
       "  <tbody>\n",
       "    <tr>\n",
       "      <th>221</th>\n",
       "      <td>tr|A0A088AAD1|A0A088AAD1_APIME</td>\n",
       "      <td>tr|H3A561|H3A561_LATCH</td>\n",
       "      <td>2.010000e-179</td>\n",
       "      <td>tr|A0A088ACS2|A0A088ACS2_APIME</td>\n",
       "      <td>5.700000e-88</td>\n",
       "    </tr>\n",
       "  </tbody>\n",
       "</table>\n",
       "</div>"
      ],
      "text/plain": [
       "                              query           Ortho_subject   Ortho_evalue  \\\n",
       "221  tr|A0A088AAD1|A0A088AAD1_APIME  tr|H3A561|H3A561_LATCH  2.010000e-179   \n",
       "\n",
       "                            subject        evalue  \n",
       "221  tr|A0A088ACS2|A0A088ACS2_APIME  5.700000e-88  "
      ]
     },
     "execution_count": 47,
     "metadata": {},
     "output_type": "execute_result"
    }
   ],
   "source": [
    "#I am choosing this one\n",
    "cortho_df[cortho_df['Ortho_subject']==\"tr|H3A561|H3A561_LATCH\"]"
   ]
  },
  {
   "cell_type": "code",
   "execution_count": 48,
   "metadata": {},
   "outputs": [
    {
     "data": {
      "text/plain": [
       "2674"
      ]
     },
     "execution_count": 48,
     "metadata": {},
     "output_type": "execute_result"
    }
   ],
   "source": [
    "len(cortho_df)"
   ]
  },
  {
   "cell_type": "code",
   "execution_count": 49,
   "metadata": {},
   "outputs": [],
   "source": [
    "cortho_df.to_csv('corthologs.tsv',sep='\\t',index=None)"
   ]
  },
  {
   "cell_type": "code",
   "execution_count": null,
   "metadata": {},
   "outputs": [],
   "source": []
  }
 ],
 "metadata": {
  "kernelspec": {
   "display_name": "Python 3",
   "language": "python",
   "name": "python3"
  },
  "language_info": {
   "codemirror_mode": {
    "name": "ipython",
    "version": 3
   },
   "file_extension": ".py",
   "mimetype": "text/x-python",
   "name": "python",
   "nbconvert_exporter": "python",
   "pygments_lexer": "ipython3",
   "version": "3.6.5"
  }
 },
 "nbformat": 4,
 "nbformat_minor": 4
}
